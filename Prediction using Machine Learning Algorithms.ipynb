{
 "cells": [
  {
   "cell_type": "markdown",
   "metadata": {},
   "source": [
    "## 1.1 Importing the libraries"
   ]
  },
  {
   "cell_type": "code",
   "execution_count": 1,
   "metadata": {},
   "outputs": [],
   "source": [
    "import pandas as pd\n",
    "from sklearn.metrics import confusion_matrix, classification_report, precision_score\n",
    "from sklearn.model_selection import train_test_split\n",
    "from sklearn.metrics import accuracy_score\n",
    "from sklearn.linear_model import LogisticRegression\n",
    "from sklearn.neighbors import KNeighborsClassifier\n",
    "from sklearn import svm"
   ]
  },
  {
   "cell_type": "markdown",
   "metadata": {},
   "source": [
    "## 1.2 Reading the preprocessed data"
   ]
  },
  {
   "cell_type": "code",
   "execution_count": 2,
   "metadata": {},
   "outputs": [
    {
     "data": {
      "text/html": [
       "<div>\n",
       "<style scoped>\n",
       "    .dataframe tbody tr th:only-of-type {\n",
       "        vertical-align: middle;\n",
       "    }\n",
       "\n",
       "    .dataframe tbody tr th {\n",
       "        vertical-align: top;\n",
       "    }\n",
       "\n",
       "    .dataframe thead th {\n",
       "        text-align: right;\n",
       "    }\n",
       "</style>\n",
       "<table border=\"1\" class=\"dataframe\">\n",
       "  <thead>\n",
       "    <tr style=\"text-align: right;\">\n",
       "      <th></th>\n",
       "      <th>radius_mean</th>\n",
       "      <th>texture_mean</th>\n",
       "      <th>smoothness_mean</th>\n",
       "      <th>compactness_mean</th>\n",
       "      <th>concavity_mean</th>\n",
       "      <th>concave points_mean</th>\n",
       "      <th>symmetry_mean</th>\n",
       "      <th>fractal_dimension_mean</th>\n",
       "      <th>radius_se</th>\n",
       "      <th>texture_se</th>\n",
       "      <th>smoothness_se</th>\n",
       "      <th>compactness_se</th>\n",
       "      <th>concavity_se</th>\n",
       "      <th>concave points_se</th>\n",
       "      <th>symmetry_se</th>\n",
       "      <th>fractal_dimension_se</th>\n",
       "    </tr>\n",
       "  </thead>\n",
       "  <tbody>\n",
       "    <tr>\n",
       "      <th>0</th>\n",
       "      <td>0.521037</td>\n",
       "      <td>0.022658</td>\n",
       "      <td>0.593753</td>\n",
       "      <td>0.792037</td>\n",
       "      <td>0.703140</td>\n",
       "      <td>0.731113</td>\n",
       "      <td>0.686364</td>\n",
       "      <td>0.605518</td>\n",
       "      <td>0.356147</td>\n",
       "      <td>0.120469</td>\n",
       "      <td>0.159296</td>\n",
       "      <td>0.351398</td>\n",
       "      <td>0.135682</td>\n",
       "      <td>0.300625</td>\n",
       "      <td>0.311645</td>\n",
       "      <td>0.183042</td>\n",
       "    </tr>\n",
       "    <tr>\n",
       "      <th>1</th>\n",
       "      <td>0.643144</td>\n",
       "      <td>0.272574</td>\n",
       "      <td>0.289880</td>\n",
       "      <td>0.181768</td>\n",
       "      <td>0.203608</td>\n",
       "      <td>0.348757</td>\n",
       "      <td>0.379798</td>\n",
       "      <td>0.141323</td>\n",
       "      <td>0.156437</td>\n",
       "      <td>0.082589</td>\n",
       "      <td>0.119387</td>\n",
       "      <td>0.081323</td>\n",
       "      <td>0.046970</td>\n",
       "      <td>0.253836</td>\n",
       "      <td>0.084539</td>\n",
       "      <td>0.091110</td>\n",
       "    </tr>\n",
       "    <tr>\n",
       "      <th>2</th>\n",
       "      <td>0.601496</td>\n",
       "      <td>0.390260</td>\n",
       "      <td>0.514309</td>\n",
       "      <td>0.431017</td>\n",
       "      <td>0.462512</td>\n",
       "      <td>0.635686</td>\n",
       "      <td>0.509596</td>\n",
       "      <td>0.211247</td>\n",
       "      <td>0.229622</td>\n",
       "      <td>0.094303</td>\n",
       "      <td>0.150831</td>\n",
       "      <td>0.283955</td>\n",
       "      <td>0.096768</td>\n",
       "      <td>0.389847</td>\n",
       "      <td>0.205690</td>\n",
       "      <td>0.127006</td>\n",
       "    </tr>\n",
       "    <tr>\n",
       "      <th>3</th>\n",
       "      <td>0.210090</td>\n",
       "      <td>0.360839</td>\n",
       "      <td>0.811321</td>\n",
       "      <td>0.811361</td>\n",
       "      <td>0.565604</td>\n",
       "      <td>0.522863</td>\n",
       "      <td>0.776263</td>\n",
       "      <td>1.000000</td>\n",
       "      <td>0.139091</td>\n",
       "      <td>0.175875</td>\n",
       "      <td>0.251453</td>\n",
       "      <td>0.543215</td>\n",
       "      <td>0.142955</td>\n",
       "      <td>0.353665</td>\n",
       "      <td>0.728148</td>\n",
       "      <td>0.287205</td>\n",
       "    </tr>\n",
       "    <tr>\n",
       "      <th>4</th>\n",
       "      <td>0.629893</td>\n",
       "      <td>0.156578</td>\n",
       "      <td>0.430351</td>\n",
       "      <td>0.347893</td>\n",
       "      <td>0.463918</td>\n",
       "      <td>0.518390</td>\n",
       "      <td>0.378283</td>\n",
       "      <td>0.186816</td>\n",
       "      <td>0.233822</td>\n",
       "      <td>0.093065</td>\n",
       "      <td>0.332359</td>\n",
       "      <td>0.167918</td>\n",
       "      <td>0.143636</td>\n",
       "      <td>0.357075</td>\n",
       "      <td>0.136179</td>\n",
       "      <td>0.145800</td>\n",
       "    </tr>\n",
       "  </tbody>\n",
       "</table>\n",
       "</div>"
      ],
      "text/plain": [
       "   radius_mean  texture_mean  smoothness_mean  compactness_mean  \\\n",
       "0     0.521037      0.022658         0.593753          0.792037   \n",
       "1     0.643144      0.272574         0.289880          0.181768   \n",
       "2     0.601496      0.390260         0.514309          0.431017   \n",
       "3     0.210090      0.360839         0.811321          0.811361   \n",
       "4     0.629893      0.156578         0.430351          0.347893   \n",
       "\n",
       "   concavity_mean  concave points_mean  symmetry_mean  fractal_dimension_mean  \\\n",
       "0        0.703140             0.731113       0.686364                0.605518   \n",
       "1        0.203608             0.348757       0.379798                0.141323   \n",
       "2        0.462512             0.635686       0.509596                0.211247   \n",
       "3        0.565604             0.522863       0.776263                1.000000   \n",
       "4        0.463918             0.518390       0.378283                0.186816   \n",
       "\n",
       "   radius_se  texture_se  smoothness_se  compactness_se  concavity_se  \\\n",
       "0   0.356147    0.120469       0.159296        0.351398      0.135682   \n",
       "1   0.156437    0.082589       0.119387        0.081323      0.046970   \n",
       "2   0.229622    0.094303       0.150831        0.283955      0.096768   \n",
       "3   0.139091    0.175875       0.251453        0.543215      0.142955   \n",
       "4   0.233822    0.093065       0.332359        0.167918      0.143636   \n",
       "\n",
       "   concave points_se  symmetry_se  fractal_dimension_se  \n",
       "0           0.300625     0.311645              0.183042  \n",
       "1           0.253836     0.084539              0.091110  \n",
       "2           0.389847     0.205690              0.127006  \n",
       "3           0.353665     0.728148              0.287205  \n",
       "4           0.357075     0.136179              0.145800  "
      ]
     },
     "execution_count": 2,
     "metadata": {},
     "output_type": "execute_result"
    }
   ],
   "source": [
    "X=pd.read_csv('BreastCancerPreprocessedDataX.csv')\n",
    "y=pd.read_csv('BreastCancerPreprocessedDatay.csv',names=['diagnosis'])\n",
    "X.drop(columns=['Unnamed: 0'], inplace=True)\n",
    "X.head()"
   ]
  },
  {
   "cell_type": "markdown",
   "metadata": {},
   "source": [
    "Replacing the labels with 0 and 1 ('M' with 0 and 'B' with 1)"
   ]
  },
  {
   "cell_type": "code",
   "execution_count": 3,
   "metadata": {},
   "outputs": [
    {
     "data": {
      "text/html": [
       "<div>\n",
       "<style scoped>\n",
       "    .dataframe tbody tr th:only-of-type {\n",
       "        vertical-align: middle;\n",
       "    }\n",
       "\n",
       "    .dataframe tbody tr th {\n",
       "        vertical-align: top;\n",
       "    }\n",
       "\n",
       "    .dataframe thead th {\n",
       "        text-align: right;\n",
       "    }\n",
       "</style>\n",
       "<table border=\"1\" class=\"dataframe\">\n",
       "  <thead>\n",
       "    <tr style=\"text-align: right;\">\n",
       "      <th></th>\n",
       "      <th>diagnosis</th>\n",
       "    </tr>\n",
       "  </thead>\n",
       "  <tbody>\n",
       "    <tr>\n",
       "      <th>0</th>\n",
       "      <td>0</td>\n",
       "    </tr>\n",
       "    <tr>\n",
       "      <th>1</th>\n",
       "      <td>0</td>\n",
       "    </tr>\n",
       "    <tr>\n",
       "      <th>2</th>\n",
       "      <td>0</td>\n",
       "    </tr>\n",
       "    <tr>\n",
       "      <th>3</th>\n",
       "      <td>0</td>\n",
       "    </tr>\n",
       "    <tr>\n",
       "      <th>4</th>\n",
       "      <td>0</td>\n",
       "    </tr>\n",
       "  </tbody>\n",
       "</table>\n",
       "</div>"
      ],
      "text/plain": [
       "   diagnosis\n",
       "0          0\n",
       "1          0\n",
       "2          0\n",
       "3          0\n",
       "4          0"
      ]
     },
     "execution_count": 3,
     "metadata": {},
     "output_type": "execute_result"
    }
   ],
   "source": [
    "y.loc[y.diagnosis=='M']=0\n",
    "y.loc[y.diagnosis=='B']=1\n",
    "y.head()"
   ]
  },
  {
   "cell_type": "markdown",
   "metadata": {},
   "source": [
    "## 1.3 Splitting the data (70% training and 30% test data)"
   ]
  },
  {
   "cell_type": "code",
   "execution_count": 4,
   "metadata": {},
   "outputs": [],
   "source": [
    "X_train, X_test, y_train, y_test = train_test_split(X, y, test_size=0.3, random_state=40)"
   ]
  },
  {
   "cell_type": "markdown",
   "metadata": {},
   "source": [
    "## 2.1 Using Logistic Regression for prediction"
   ]
  },
  {
   "cell_type": "code",
   "execution_count": 5,
   "metadata": {},
   "outputs": [
    {
     "data": {
      "text/plain": [
       "LogisticRegression(C=1.0, class_weight=None, dual=False, fit_intercept=True,\n",
       "          intercept_scaling=1, max_iter=100, multi_class='warn',\n",
       "          n_jobs=None, penalty='l2', random_state=None, solver='lbfgs',\n",
       "          tol=0.0001, verbose=0, warm_start=False)"
      ]
     },
     "execution_count": 5,
     "metadata": {},
     "output_type": "execute_result"
    }
   ],
   "source": [
    "model = LogisticRegression(solver='lbfgs')\n",
    "model.fit(X_train, y_train.values.ravel())"
   ]
  },
  {
   "cell_type": "markdown",
   "metadata": {},
   "source": [
    "## 2.2 Results"
   ]
  },
  {
   "cell_type": "code",
   "execution_count": 6,
   "metadata": {},
   "outputs": [
    {
     "name": "stdout",
     "output_type": "stream",
     "text": [
      "              precision    recall  f1-score   support\n",
      "\n",
      "           0      0.962     0.911     0.936        56\n",
      "           1      0.958     0.983     0.970       115\n",
      "\n",
      "   micro avg      0.959     0.959     0.959       171\n",
      "   macro avg      0.960     0.947     0.953       171\n",
      "weighted avg      0.959     0.959     0.959       171\n",
      "\n",
      "Confusion Matrix: \n",
      " [[ 51   5]\n",
      " [  2 113]] \n",
      "\n",
      "True Negative: 51\n",
      "False Positive: 5\n",
      "False Negative: 2\n",
      "True Positive: 113\n",
      "Correct Predictions 95.9 %\n"
     ]
    }
   ],
   "source": [
    "y_pred=model.predict(X_test)\n",
    "print(classification_report(y_test, y_pred, digits=3))\n",
    "\n",
    "cfm = confusion_matrix(y_test, y_pred)\n",
    "\n",
    "true_negative = cfm[0][0]\n",
    "false_positive = cfm[0][1]\n",
    "false_negative = cfm[1][0]\n",
    "true_positive = cfm[1][1]\n",
    "\n",
    "print('Confusion Matrix: \\n', cfm, '\\n')\n",
    "\n",
    "print('True Negative:', true_negative)\n",
    "print('False Positive:', false_positive)\n",
    "print('False Negative:', false_negative)\n",
    "print('True Positive:', true_positive)\n",
    "print('Correct Predictions', \n",
    "      round((true_negative + true_positive) / len(y_pred) * 100, 1), '%')"
   ]
  },
  {
   "cell_type": "markdown",
   "metadata": {},
   "source": [
    "## 3.1 Using K Nearest Neighbors (KNN) Algorithm for prediction"
   ]
  },
  {
   "cell_type": "markdown",
   "metadata": {},
   "source": [
    "Finding the best value of k"
   ]
  },
  {
   "cell_type": "code",
   "execution_count": 7,
   "metadata": {},
   "outputs": [
    {
     "name": "stdout",
     "output_type": "stream",
     "text": [
      "1\n",
      "0.9649122807017544\n",
      "2\n",
      "0.9415204678362573\n",
      "3\n",
      "0.9590643274853801\n",
      "4\n",
      "0.9415204678362573\n",
      "5\n",
      "0.9590643274853801\n",
      "6\n",
      "0.9473684210526315\n",
      "7\n",
      "0.9473684210526315\n",
      "8\n",
      "0.9532163742690059\n",
      "9\n",
      "0.9532163742690059\n",
      "10\n",
      "0.9532163742690059\n",
      "11\n",
      "0.9707602339181286\n",
      "12\n",
      "0.9532163742690059\n",
      "13\n",
      "0.9649122807017544\n",
      "14\n",
      "0.9590643274853801\n",
      "15\n",
      "0.9649122807017544\n",
      "16\n",
      "0.9532163742690059\n",
      "17\n",
      "0.9590643274853801\n",
      "18\n",
      "0.9590643274853801\n",
      "19\n",
      "0.9649122807017544\n"
     ]
    }
   ],
   "source": [
    "for i in range(1,20):\n",
    "    knn=KNeighborsClassifier(n_neighbors=i)\n",
    "    model=knn.fit(X_train, y_train.values.ravel())\n",
    "    y_pred=model.predict(X_test)\n",
    "    w=accuracy_score(y_test.values.ravel(), y_pred.ravel())\n",
    "    print(i)\n",
    "    print(w)"
   ]
  },
  {
   "cell_type": "markdown",
   "metadata": {},
   "source": [
    "We get the best accuracy for k=11."
   ]
  },
  {
   "cell_type": "code",
   "execution_count": 8,
   "metadata": {},
   "outputs": [],
   "source": [
    "knn=KNeighborsClassifier(n_neighbors=i)\n",
    "model=knn.fit(X_train, y_train.values.ravel())"
   ]
  },
  {
   "cell_type": "markdown",
   "metadata": {},
   "source": [
    "## 3.2 Results"
   ]
  },
  {
   "cell_type": "code",
   "execution_count": 9,
   "metadata": {},
   "outputs": [
    {
     "name": "stdout",
     "output_type": "stream",
     "text": [
      "              precision    recall  f1-score   support\n",
      "\n",
      "           0      0.931     0.964     0.947        56\n",
      "           1      0.982     0.965     0.974       115\n",
      "\n",
      "   micro avg      0.965     0.965     0.965       171\n",
      "   macro avg      0.957     0.965     0.961       171\n",
      "weighted avg      0.966     0.965     0.965       171\n",
      "\n",
      "Confusion Matrix: \n",
      " [[ 54   2]\n",
      " [  4 111]] \n",
      "\n",
      "True Negative: 54\n",
      "False Positive: 2\n",
      "False Negative: 4\n",
      "True Positive: 111\n",
      "Correct Predictions 96.5 %\n"
     ]
    }
   ],
   "source": [
    "y_pred=model.predict(X_test)\n",
    "print(classification_report(y_test, y_pred, digits=3))\n",
    "\n",
    "cfm = confusion_matrix(y_test, y_pred)\n",
    "\n",
    "true_negative = cfm[0][0]\n",
    "false_positive = cfm[0][1]\n",
    "false_negative = cfm[1][0]\n",
    "true_positive = cfm[1][1]\n",
    "\n",
    "print('Confusion Matrix: \\n', cfm, '\\n')\n",
    "\n",
    "print('True Negative:', true_negative)\n",
    "print('False Positive:', false_positive)\n",
    "print('False Negative:', false_negative)\n",
    "print('True Positive:', true_positive)\n",
    "print('Correct Predictions', \n",
    "      round((true_negative + true_positive) / len(y_pred) * 100, 1), '%')"
   ]
  },
  {
   "cell_type": "markdown",
   "metadata": {},
   "source": [
    "## 4.1 Using Support Vector Machines (SVM) Algorithm for prediction"
   ]
  },
  {
   "cell_type": "code",
   "execution_count": 10,
   "metadata": {},
   "outputs": [
    {
     "data": {
      "text/plain": [
       "SVC(C=1.0, cache_size=200, class_weight=None, coef0=0.0,\n",
       "  decision_function_shape='ovr', degree=3, gamma='auto', kernel='rbf',\n",
       "  max_iter=-1, probability=False, random_state=None, shrinking=True,\n",
       "  tol=0.001, verbose=False)"
      ]
     },
     "execution_count": 10,
     "metadata": {},
     "output_type": "execute_result"
    }
   ],
   "source": [
    "model=svm.SVC(gamma='auto')\n",
    "model.fit(X_train, y_train.values.ravel())"
   ]
  },
  {
   "cell_type": "markdown",
   "metadata": {},
   "source": [
    "## 4.2 Results"
   ]
  },
  {
   "cell_type": "code",
   "execution_count": 11,
   "metadata": {},
   "outputs": [
    {
     "name": "stdout",
     "output_type": "stream",
     "text": [
      "              precision    recall  f1-score   support\n",
      "\n",
      "           0      0.979     0.839     0.904        56\n",
      "           1      0.927     0.991     0.958       115\n",
      "\n",
      "   micro avg      0.942     0.942     0.942       171\n",
      "   macro avg      0.953     0.915     0.931       171\n",
      "weighted avg      0.944     0.942     0.940       171\n",
      "\n",
      "Confusion Matrix: \n",
      " [[ 47   9]\n",
      " [  1 114]] \n",
      "\n",
      "True Negative: 47\n",
      "False Positive: 9\n",
      "False Negative: 1\n",
      "True Positive: 114\n",
      "Correct Predictions 94.2 %\n"
     ]
    }
   ],
   "source": [
    "y_pred=model.predict(X_test)\n",
    "print(classification_report(y_test, y_pred, digits=3))\n",
    "\n",
    "cfm = confusion_matrix(y_test, y_pred)\n",
    "\n",
    "true_negative = cfm[0][0]\n",
    "false_positive = cfm[0][1]\n",
    "false_negative = cfm[1][0]\n",
    "true_positive = cfm[1][1]\n",
    "\n",
    "print('Confusion Matrix: \\n', cfm, '\\n')\n",
    "\n",
    "print('True Negative:', true_negative)\n",
    "print('False Positive:', false_positive)\n",
    "print('False Negative:', false_negative)\n",
    "print('True Positive:', true_positive)\n",
    "print('Correct Predictions', \n",
    "      round((true_negative + true_positive) / len(y_pred) * 100, 1), '%')"
   ]
  }
 ],
 "metadata": {
  "kernelspec": {
   "display_name": "Python 3",
   "language": "python",
   "name": "python3"
  },
  "language_info": {
   "codemirror_mode": {
    "name": "ipython",
    "version": 3
   },
   "file_extension": ".py",
   "mimetype": "text/x-python",
   "name": "python",
   "nbconvert_exporter": "python",
   "pygments_lexer": "ipython3",
   "version": "3.5.6"
  }
 },
 "nbformat": 4,
 "nbformat_minor": 2
}
